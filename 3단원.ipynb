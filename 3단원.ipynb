{
  "nbformat": 4,
  "nbformat_minor": 0,
  "metadata": {
    "colab": {
      "name": "3단원.ipynb",
      "private_outputs": true,
      "provenance": [],
      "authorship_tag": "ABX9TyMoZTJLZQ8lyKfXTxcWdxe6",
      "include_colab_link": true
    },
    "kernelspec": {
      "name": "python3",
      "display_name": "Python 3"
    },
    "language_info": {
      "name": "python"
    }
  },
  "cells": [
    {
      "cell_type": "markdown",
      "metadata": {
        "id": "view-in-github",
        "colab_type": "text"
      },
      "source": [
        "<a href=\"https://colab.research.google.com/github/du6293/DL_study/blob/main/3%EB%8B%A8%EC%9B%90.ipynb\" target=\"_parent\"><img src=\"https://colab.research.google.com/assets/colab-badge.svg\" alt=\"Open In Colab\"/></a>"
      ]
    },
    {
      "cell_type": "code",
      "source": [
        "# 파이토치 토치비젼 설치\n",
        "!pip3 install torch torchvision"
      ],
      "metadata": {
        "id": "UFwahlDuoJaC"
      },
      "execution_count": null,
      "outputs": []
    },
    {
      "cell_type": "markdown",
      "source": [
        "## 텐서, 기울기, 장치(Tensor, Gradient, and Devices)"
      ],
      "metadata": {
        "id": "liEmZ5PcoREb"
      }
    },
    {
      "cell_type": "code",
      "source": [
        "import numpy as np\n",
        "import torch"
      ],
      "metadata": {
        "id": "MjRg6CEwoP2T"
      },
      "execution_count": null,
      "outputs": []
    },
    {
      "cell_type": "markdown",
      "source": [
        "## 기울기 계산 기능을 끄고 기울기 계산을 시도하는 경우"
      ],
      "metadata": {
        "id": "_IRLXBSwockR"
      }
    },
    {
      "cell_type": "code",
      "source": [
        "x = torch.tensor([1.,2.,3.])\n",
        "y = torch.tensor([2.,3.,4.])\n",
        "\n",
        "# x와 x의 기울기 계산 여부\n",
        "print(x, x.requires_grad)\n",
        "\n",
        "# 기울기 계산이 꺼져있으므로 backward를 하면 오류가 난다.\n",
        "z = x + y\n",
        "# z.sum().backward()"
      ],
      "metadata": {
        "id": "p0X45Sx6og9v"
      },
      "execution_count": null,
      "outputs": []
    },
    {
      "cell_type": "markdown",
      "source": [
        "## 기울기 계산 기능을 키는 경우"
      ],
      "metadata": {
        "id": "BeTP3Ji6o9rU"
      }
    },
    {
      "cell_type": "code",
      "source": [
        "x = torch.tensor([1.,2.,3.],requires_grad = True)\n",
        "y = torch.tensor([2.,3.,4.],requires_grad = True)\n",
        "print(x,x.requires_grad)\n",
        "\n",
        "# 잘 되는 것을 확인\n",
        "z = x + y\n",
        "z.sum().backward()"
      ],
      "metadata": {
        "id": "q4jeUOsTpA8M"
      },
      "execution_count": null,
      "outputs": []
    },
    {
      "cell_type": "markdown",
      "source": [
        "인퍼런스 모드"
      ],
      "metadata": {
        "id": "Z4l-j_Jaqa5J"
      }
    },
    {
      "cell_type": "code",
      "source": [
        "print(x.requires_grad,y.requires_grad)\n",
        "\n",
        "with torch.no_grad():\n",
        "  z = x + y\n",
        "  print(z.requires_grad)"
      ],
      "metadata": {
        "id": "xzghknovqQ9u"
      },
      "execution_count": null,
      "outputs": []
    },
    {
      "cell_type": "markdown",
      "source": [
        "## 텐서의 위치 할당"
      ],
      "metadata": {
        "id": "5chFGczjtJCX"
      }
    },
    {
      "cell_type": "code",
      "source": [
        "# device 함수를 이용해 cpu 또는 몇 번 gpu에 올릴 것인지 지정할 수 있습니다.\n",
        "\n",
        "cpu = torch.device('cpu')\n",
        "gpu = torch.device('cuda')\n",
        "\n",
        "# 텐서를 생성할 때, 장치를 지정할 수 있다.\n",
        "x = torch.tensor([1.,2.,3.,], dtype = torch.float64, device = cpu, requires_grad = True)\n",
        "print(x.device)\n",
        "\n",
        "# to함수를 이용해 cpu에 만들어진 텐서를 gpu에 올릴 수 있습니다.\n",
        "if torch.cuda.is_available():\n",
        "  x = x.to(gpu)\n",
        "  print(x.device)"
      ],
      "metadata": {
        "id": "tQnRWWLItEuB"
      },
      "execution_count": null,
      "outputs": []
    },
    {
      "cell_type": "code",
      "source": [
        "import torch"
      ],
      "metadata": {
        "id": "krhb0AI6u2rh"
      },
      "execution_count": null,
      "outputs": []
    },
    {
      "cell_type": "code",
      "source": [
        "x = torch.tensor(data=[2.0,3.0],requires_grad = True)\n",
        "y = x **2\n",
        "z = 2*y+3"
      ],
      "metadata": {
        "id": "X5dWnKZM0-Ng"
      },
      "execution_count": null,
      "outputs": []
    },
    {
      "cell_type": "code",
      "source": [
        "# https://pytorch.org/docs/stable/autograd.html?highlight=backward#torch.autograd.backward\n",
        "\n",
        "# 목표값을 지정합니다. \n",
        "target = torch.tensor([3.0,4.0])\n",
        "\n",
        "# z와 목표값의 절대값 차이를 계산합니다. \n",
        "# backward는 스칼라 값에 대해서 동작하기 때문에 길이 2짜리 텐서인 loss를 torch.sum을 통해 하나의 숫자로 바꿔줍니다.\n",
        "loss = torch.sum(torch.abs(z-target))\n",
        "\n",
        "# 그리고 스칼라 값이 된 loss에 대해 backward를 적용합니다.\n",
        "loss.backward()\n",
        "\n",
        "# 여기서 y와 z는 기울기가 None으로 나오는데 이는 x,y,z중에 x만이 leaf node이기 때문입니다.\n",
        "print(x.grad, y.grad, z.grad)"
      ],
      "metadata": {
        "id": "wHEQoIOV1QMs"
      },
      "execution_count": null,
      "outputs": []
    },
    {
      "cell_type": "code",
      "source": [
        "import numpy as np\n",
        "import torch\n",
        "import torch.nn as nn\n",
        "import torch.optim as optim\n",
        "import torch.nn.init as init\n",
        "import matplotlib.pyplot as plt"
      ],
      "metadata": {
        "id": "eaUS6FVA54jq"
      },
      "execution_count": null,
      "outputs": []
    },
    {
      "cell_type": "code",
      "source": [
        "num_data = 1000\n",
        "num_epoch = 500\n",
        "noise = init.normal_(torch.FloatTensor(num_data,1),std = 0.2)\n",
        "\n",
        "x = init.uniform_(torch.Tensor(num_data,1),-10,10)\n",
        "\n",
        "y = 2*x+3\n",
        "\n",
        "y_noise = y+noise"
      ],
      "metadata": {
        "id": "v2KNEnOD6Qkt"
      },
      "execution_count": null,
      "outputs": []
    },
    {
      "cell_type": "code",
      "source": [
        "plt.figure(figsize = (10,10))\n",
        "plt.scatter(x.numpy(), y_noise.numpy(), s=7, c=\"gray\")\n",
        "plt.axis([-12,12,-25,25])\n",
        "plt.show()"
      ],
      "metadata": {
        "id": "HMgXYVNP6ux7"
      },
      "execution_count": null,
      "outputs": []
    },
    {
      "cell_type": "markdown",
      "source": [
        "## 모델, 손실함수, 최적화 함수 설정"
      ],
      "metadata": {
        "id": "BnfdIKuo7HPB"
      }
    },
    {
      "cell_type": "code",
      "source": [
        "model = nn.Linear(1,1)\n",
        "loss_func = nn.L1Loss()\n",
        "optimizer = optim.SGD(model.parameters(),lr=0.01)"
      ],
      "metadata": {
        "id": "6K5bOyp_7GxZ"
      },
      "execution_count": null,
      "outputs": []
    },
    {
      "cell_type": "markdown",
      "source": [
        "## 모델 학습 및 중간 확인"
      ],
      "metadata": {
        "id": "1QFUW7DT8AId"
      }
    },
    {
      "cell_type": "code",
      "source": [
        "loss_arr = []\n",
        "label = y_noise\n",
        "for i in range(num_epoch):\n",
        "  optimizer.zero_grad()\n",
        "  output = model(x)\n",
        "  loss = loss_func(output, label)\n",
        "  loss.backward()\n",
        "  optimizer.step()\n",
        "  if i % 10 == 0:\n",
        "    plt.scatter(x.detach().numpy(),output.detach().numpy())\n",
        "    plt.axis([-10, 10 , -30, 30])\n",
        "    plt.show()\n",
        "    print(loss.data)\n",
        "  loss_arr.append(loss.detach().numpy())"
      ],
      "metadata": {
        "id": "C--1x31W8D_m"
      },
      "execution_count": null,
      "outputs": []
    },
    {
      "cell_type": "code",
      "source": [
        "plt.figure(figsize = (15,15))\n",
        "plt.scatter(x.numpy(),y_noise.numpy(),s=5, c = \"gray\")\n",
        "plt.scatter(x.detach().numpy(),output.detach().numpy(), s = 5, c = \"red\")\n",
        "plt.axis([-10,10,-30,30])\n",
        "plt.show()"
      ],
      "metadata": {
        "id": "oPFRy08u9Gt4"
      },
      "execution_count": null,
      "outputs": []
    },
    {
      "cell_type": "markdown",
      "source": [
        "## 손실 그래프"
      ],
      "metadata": {
        "id": "6Ccj87LM9rPq"
      }
    },
    {
      "cell_type": "code",
      "source": [
        "# matplotlib의 plot함수를 이용해 손실이 어떻게 줄어가는지 확인\n",
        "plt.plot(loss_arr)\n",
        "plt.show()"
      ],
      "metadata": {
        "id": "pilxmsEP9s-y"
      },
      "execution_count": null,
      "outputs": []
    },
    {
      "cell_type": "markdown",
      "source": [
        "## 학습 후 모델 변수 값 확인"
      ],
      "metadata": {
        "id": "0VMsYQOk-rn-"
      }
    },
    {
      "cell_type": "code",
      "source": [
        "# 현재 모델은 weight와 bias를 변수로 가지고 있는데, 그 값들이 학습 후 실제 몇인지 수치적으로 확인.\n",
        "param_list = list(model.parameters())\n",
        "print(\"Weight:\",param_list[0].item(),\"\\nBias:\",param_list[1].item())"
      ],
      "metadata": {
        "id": "8_RyCzW19xJh"
      },
      "execution_count": null,
      "outputs": []
    }
  ]
}